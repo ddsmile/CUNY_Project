{
 "metadata": {
  "name": "",
  "signature": "sha256:f10216f68c6fa20ad7ffed114f5ebbe5748c0c25f23e6e641b74b93f4b49bf53"
 },
 "nbformat": 3,
 "nbformat_minor": 0,
 "worksheets": [
  {
   "cells": [
    {
     "cell_type": "code",
     "collapsed": false,
     "input": [
      "import Tkinter\n",
      "import tkFileDialog\n",
      "import pandas as pd\n",
      "import numpy as np\n",
      "import matplotlib.pyplot as plt\n",
      "%pylab inline"
     ],
     "language": "python",
     "metadata": {},
     "outputs": [
      {
       "output_type": "stream",
       "stream": "stdout",
       "text": [
        "Populating the interactive namespace from numpy and matplotlib\n"
       ]
      }
     ],
     "prompt_number": 1
    },
    {
     "cell_type": "heading",
     "level": 4,
     "metadata": {},
     "source": [
      "Data import"
     ]
    },
    {
     "cell_type": "code",
     "collapsed": false,
     "input": [
      "# Choose excel file in popup window.\n",
      "# Import excel file using pandas read_excel\n",
      "root = Tkinter.Tk()\n",
      "root.withdraw()\n",
      "filename = tkFileDialog.askopenfilename(parent = root)\n",
      "data_xls = pd.read_excel(filename, 'EVD Gender', header = 6, \n",
      "                         skiprows = 5, index_col=None, engine = 'xlrd', encoding='utf-8' )\n",
      "print data_xls.head(5)"
     ],
     "language": "python",
     "metadata": {},
     "outputs": [
      {
       "output_type": "stream",
       "stream": "stdout",
       "text": [
        "  country district EpiCaseDef         Gender  Age  Value\n",
        "0  Guinea    Beyla  Confirmed  not specified    0      7\n",
        "1  Guinea    Beyla  Suspected  not specified    0      1\n",
        "2  Guinea    Boffa  Confirmed         Female    2      2\n",
        "3  Guinea    Boffa  Confirmed         Female   21      1\n",
        "4  Guinea    Boffa  Confirmed         Female    3      1\n"
       ]
      }
     ],
     "prompt_number": 2
    },
    {
     "cell_type": "code",
     "collapsed": false,
     "input": [
      "data_xls.dtypes"
     ],
     "language": "python",
     "metadata": {},
     "outputs": [
      {
       "metadata": {},
       "output_type": "pyout",
       "prompt_number": 3,
       "text": [
        "country        object\n",
        "district       object\n",
        "EpiCaseDef     object\n",
        "Gender         object\n",
        "Age           float64\n",
        "Value           int64\n",
        "dtype: object"
       ]
      }
     ],
     "prompt_number": 3
    },
    {
     "cell_type": "heading",
     "level": 3,
     "metadata": {},
     "source": [
      "Data Transformation and cleanup"
     ]
    },
    {
     "cell_type": "code",
     "collapsed": false,
     "input": [
      "data_xls['EpiCaseDef'].describe()"
     ],
     "language": "python",
     "metadata": {},
     "outputs": [
      {
       "metadata": {},
       "output_type": "pyout",
       "prompt_number": 4,
       "text": [
        "count           847\n",
        "unique            3\n",
        "top       Confirmed\n",
        "freq            555\n",
        "dtype: object"
       ]
      }
     ],
     "prompt_number": 4
    },
    {
     "cell_type": "markdown",
     "metadata": {},
     "source": [
      "Filter the data with only 'Confirmed' cases"
     ]
    },
    {
     "cell_type": "code",
     "collapsed": false,
     "input": [
      "data_confirm = data_xls[data_xls['EpiCaseDef'] == 'Confirmed']\n",
      "data_confirm.head()"
     ],
     "language": "python",
     "metadata": {},
     "outputs": [
      {
       "html": [
        "<div style=\"max-height:1000px;max-width:1500px;overflow:auto;\">\n",
        "<table border=\"1\" class=\"dataframe\">\n",
        "  <thead>\n",
        "    <tr style=\"text-align: right;\">\n",
        "      <th></th>\n",
        "      <th>country</th>\n",
        "      <th>district</th>\n",
        "      <th>EpiCaseDef</th>\n",
        "      <th>Gender</th>\n",
        "      <th>Age</th>\n",
        "      <th>Value</th>\n",
        "    </tr>\n",
        "  </thead>\n",
        "  <tbody>\n",
        "    <tr>\n",
        "      <th>0</th>\n",
        "      <td> Guinea</td>\n",
        "      <td> Beyla</td>\n",
        "      <td> Confirmed</td>\n",
        "      <td> not specified</td>\n",
        "      <td>  0</td>\n",
        "      <td> 7</td>\n",
        "    </tr>\n",
        "    <tr>\n",
        "      <th>2</th>\n",
        "      <td> Guinea</td>\n",
        "      <td> Boffa</td>\n",
        "      <td> Confirmed</td>\n",
        "      <td>        Female</td>\n",
        "      <td>  2</td>\n",
        "      <td> 2</td>\n",
        "    </tr>\n",
        "    <tr>\n",
        "      <th>3</th>\n",
        "      <td> Guinea</td>\n",
        "      <td> Boffa</td>\n",
        "      <td> Confirmed</td>\n",
        "      <td>        Female</td>\n",
        "      <td> 21</td>\n",
        "      <td> 1</td>\n",
        "    </tr>\n",
        "    <tr>\n",
        "      <th>4</th>\n",
        "      <td> Guinea</td>\n",
        "      <td> Boffa</td>\n",
        "      <td> Confirmed</td>\n",
        "      <td>        Female</td>\n",
        "      <td>  3</td>\n",
        "      <td> 1</td>\n",
        "    </tr>\n",
        "    <tr>\n",
        "      <th>5</th>\n",
        "      <td> Guinea</td>\n",
        "      <td> Boffa</td>\n",
        "      <td> Confirmed</td>\n",
        "      <td>        Female</td>\n",
        "      <td> 35</td>\n",
        "      <td> 1</td>\n",
        "    </tr>\n",
        "  </tbody>\n",
        "</table>\n",
        "</div>"
       ],
       "metadata": {},
       "output_type": "pyout",
       "prompt_number": 5,
       "text": [
        "  country district EpiCaseDef         Gender  Age  Value\n",
        "0  Guinea    Beyla  Confirmed  not specified    0      7\n",
        "2  Guinea    Boffa  Confirmed         Female    2      2\n",
        "3  Guinea    Boffa  Confirmed         Female   21      1\n",
        "4  Guinea    Boffa  Confirmed         Female    3      1\n",
        "5  Guinea    Boffa  Confirmed         Female   35      1"
       ]
      }
     ],
     "prompt_number": 5
    },
    {
     "cell_type": "markdown",
     "metadata": {},
     "source": [
      "Filter the data with NAN value and 'not specified'. Only include 'Female' and 'Male'."
     ]
    },
    {
     "cell_type": "code",
     "collapsed": false,
     "input": [
      "data_confirm['Gender'].unique()"
     ],
     "language": "python",
     "metadata": {},
     "outputs": [
      {
       "metadata": {},
       "output_type": "pyout",
       "prompt_number": 6,
       "text": [
        "array([u'not specified', u'Female', u'Male', nan], dtype=object)"
       ]
      }
     ],
     "prompt_number": 6
    },
    {
     "cell_type": "code",
     "collapsed": false,
     "input": [
      "data_confirm.head()"
     ],
     "language": "python",
     "metadata": {},
     "outputs": [
      {
       "html": [
        "<div style=\"max-height:1000px;max-width:1500px;overflow:auto;\">\n",
        "<table border=\"1\" class=\"dataframe\">\n",
        "  <thead>\n",
        "    <tr style=\"text-align: right;\">\n",
        "      <th></th>\n",
        "      <th>country</th>\n",
        "      <th>district</th>\n",
        "      <th>EpiCaseDef</th>\n",
        "      <th>Gender</th>\n",
        "      <th>Age</th>\n",
        "      <th>Value</th>\n",
        "    </tr>\n",
        "  </thead>\n",
        "  <tbody>\n",
        "    <tr>\n",
        "      <th>0</th>\n",
        "      <td> Guinea</td>\n",
        "      <td> Beyla</td>\n",
        "      <td> Confirmed</td>\n",
        "      <td> not specified</td>\n",
        "      <td>  0</td>\n",
        "      <td> 7</td>\n",
        "    </tr>\n",
        "    <tr>\n",
        "      <th>2</th>\n",
        "      <td> Guinea</td>\n",
        "      <td> Boffa</td>\n",
        "      <td> Confirmed</td>\n",
        "      <td>        Female</td>\n",
        "      <td>  2</td>\n",
        "      <td> 2</td>\n",
        "    </tr>\n",
        "    <tr>\n",
        "      <th>3</th>\n",
        "      <td> Guinea</td>\n",
        "      <td> Boffa</td>\n",
        "      <td> Confirmed</td>\n",
        "      <td>        Female</td>\n",
        "      <td> 21</td>\n",
        "      <td> 1</td>\n",
        "    </tr>\n",
        "    <tr>\n",
        "      <th>4</th>\n",
        "      <td> Guinea</td>\n",
        "      <td> Boffa</td>\n",
        "      <td> Confirmed</td>\n",
        "      <td>        Female</td>\n",
        "      <td>  3</td>\n",
        "      <td> 1</td>\n",
        "    </tr>\n",
        "    <tr>\n",
        "      <th>5</th>\n",
        "      <td> Guinea</td>\n",
        "      <td> Boffa</td>\n",
        "      <td> Confirmed</td>\n",
        "      <td>        Female</td>\n",
        "      <td> 35</td>\n",
        "      <td> 1</td>\n",
        "    </tr>\n",
        "  </tbody>\n",
        "</table>\n",
        "</div>"
       ],
       "metadata": {},
       "output_type": "pyout",
       "prompt_number": 7,
       "text": [
        "  country district EpiCaseDef         Gender  Age  Value\n",
        "0  Guinea    Beyla  Confirmed  not specified    0      7\n",
        "2  Guinea    Boffa  Confirmed         Female    2      2\n",
        "3  Guinea    Boffa  Confirmed         Female   21      1\n",
        "4  Guinea    Boffa  Confirmed         Female    3      1\n",
        "5  Guinea    Boffa  Confirmed         Female   35      1"
       ]
      }
     ],
     "prompt_number": 7
    },
    {
     "cell_type": "markdown",
     "metadata": {},
     "source": [
      "The 'Gender' column contains 'not specified', 'Female', 'Male' and nan value. Only rows containing 'Female' and 'Male' are chosen for further analysis."
     ]
    },
    {
     "cell_type": "code",
     "collapsed": false,
     "input": [
      "data_g = data_confirm[data_confirm['Gender'].isin(['Female', 'Male'])]\n",
      "data_g['Gender'].unique()"
     ],
     "language": "python",
     "metadata": {},
     "outputs": [
      {
       "metadata": {},
       "output_type": "pyout",
       "prompt_number": 8,
       "text": [
        "array([u'Female', u'Male'], dtype=object)"
       ]
      }
     ],
     "prompt_number": 8
    },
    {
     "cell_type": "markdown",
     "metadata": {},
     "source": [
      "Convert 'Age' into integer. "
     ]
    },
    {
     "cell_type": "code",
     "collapsed": false,
     "input": [
      "data_clean = data_g[['country', 'Gender', 'Age']]\n",
      "data_clean.head()"
     ],
     "language": "python",
     "metadata": {},
     "outputs": [
      {
       "html": [
        "<div style=\"max-height:1000px;max-width:1500px;overflow:auto;\">\n",
        "<table border=\"1\" class=\"dataframe\">\n",
        "  <thead>\n",
        "    <tr style=\"text-align: right;\">\n",
        "      <th></th>\n",
        "      <th>country</th>\n",
        "      <th>Gender</th>\n",
        "      <th>Age</th>\n",
        "    </tr>\n",
        "  </thead>\n",
        "  <tbody>\n",
        "    <tr>\n",
        "      <th>2</th>\n",
        "      <td> Guinea</td>\n",
        "      <td> Female</td>\n",
        "      <td>  2</td>\n",
        "    </tr>\n",
        "    <tr>\n",
        "      <th>3</th>\n",
        "      <td> Guinea</td>\n",
        "      <td> Female</td>\n",
        "      <td> 21</td>\n",
        "    </tr>\n",
        "    <tr>\n",
        "      <th>4</th>\n",
        "      <td> Guinea</td>\n",
        "      <td> Female</td>\n",
        "      <td>  3</td>\n",
        "    </tr>\n",
        "    <tr>\n",
        "      <th>5</th>\n",
        "      <td> Guinea</td>\n",
        "      <td> Female</td>\n",
        "      <td> 35</td>\n",
        "    </tr>\n",
        "    <tr>\n",
        "      <th>6</th>\n",
        "      <td> Guinea</td>\n",
        "      <td> Female</td>\n",
        "      <td>  6</td>\n",
        "    </tr>\n",
        "  </tbody>\n",
        "</table>\n",
        "</div>"
       ],
       "metadata": {},
       "output_type": "pyout",
       "prompt_number": 11,
       "text": [
        "  country  Gender  Age\n",
        "2  Guinea  Female    2\n",
        "3  Guinea  Female   21\n",
        "4  Guinea  Female    3\n",
        "5  Guinea  Female   35\n",
        "6  Guinea  Female    6"
       ]
      }
     ],
     "prompt_number": 11
    },
    {
     "cell_type": "code",
     "collapsed": false,
     "input": [
      "data_clean.dtypes"
     ],
     "language": "python",
     "metadata": {},
     "outputs": [
      {
       "metadata": {},
       "output_type": "pyout",
       "prompt_number": 12,
       "text": [
        "country     object\n",
        "Gender      object\n",
        "Age        float64\n",
        "dtype: object"
       ]
      }
     ],
     "prompt_number": 12
    },
    {
     "cell_type": "markdown",
     "metadata": {},
     "source": [
      "Convert 'Age' into integer format."
     ]
    },
    {
     "cell_type": "code",
     "collapsed": false,
     "input": [
      "data_clean['Age'] = data_clean['Age'].astype('int32')"
     ],
     "language": "python",
     "metadata": {},
     "outputs": [
      {
       "output_type": "stream",
       "stream": "stderr",
       "text": [
        "-c:1: SettingWithCopyWarning: A value is trying to be set on a copy of a slice from a DataFrame.\n",
        "Try using .loc[row_index,col_indexer] = value instead\n"
       ]
      }
     ],
     "prompt_number": 13
    },
    {
     "cell_type": "code",
     "collapsed": false,
     "input": [
      "data_clean.dtypes"
     ],
     "language": "python",
     "metadata": {},
     "outputs": [
      {
       "metadata": {},
       "output_type": "pyout",
       "prompt_number": 14,
       "text": [
        "country    object\n",
        "Gender     object\n",
        "Age         int32\n",
        "dtype: object"
       ]
      }
     ],
     "prompt_number": 14
    },
    {
     "cell_type": "heading",
     "level": 3,
     "metadata": {},
     "source": [
      "Descriptive Analysis"
     ]
    },
    {
     "cell_type": "code",
     "collapsed": false,
     "input": [
      "data_clean.shape"
     ],
     "language": "python",
     "metadata": {},
     "outputs": [
      {
       "metadata": {},
       "output_type": "pyout",
       "prompt_number": 15,
       "text": [
        "(504, 3)"
       ]
      }
     ],
     "prompt_number": 15
    },
    {
     "cell_type": "code",
     "collapsed": false,
     "input": [
      "data_clean['Age'].describe()"
     ],
     "language": "python",
     "metadata": {},
     "outputs": [
      {
       "metadata": {},
       "output_type": "pyout",
       "prompt_number": 18,
       "text": [
        "count    504.000000\n",
        "mean      29.065476\n",
        "std       19.257739\n",
        "min        0.000000\n",
        "25%       13.000000\n",
        "50%       28.000000\n",
        "75%       43.250000\n",
        "max       95.000000\n",
        "dtype: float64"
       ]
      }
     ],
     "prompt_number": 18
    },
    {
     "cell_type": "markdown",
     "metadata": {},
     "source": [
      "Histogram of age"
     ]
    },
    {
     "cell_type": "code",
     "collapsed": false,
     "input": [
      "data_clean['Age'].hist(bins=10)\n",
      "xlabel('Age')\n",
      "ylabel('count')\n",
      "show()"
     ],
     "language": "python",
     "metadata": {},
     "outputs": [
      {
       "metadata": {},
       "output_type": "display_data",
       "png": "[encoded data removed]",
       "text": [
        "<matplotlib.figure.Figure at 0xc1ab5f8>"
       ]
      }
     ],
     "prompt_number": 19
    },
    {
     "cell_type": "heading",
     "level": 3,
     "metadata": {},
     "source": [
      "Data Analysis and visualization"
     ]
    },
    {
     "cell_type": "heading",
     "level": 4,
     "metadata": {},
     "source": [
      "Comparison of age between genders"
     ]
    },
    {
     "cell_type": "code",
     "collapsed": false,
     "input": [
      "data_clean[['Gender', 'Age']].groupby('Gender').describe().unstack(1)"
     ],
     "language": "python",
     "metadata": {},
     "outputs": [
      {
       "html": [
        "<div style=\"max-height:1000px;max-width:1500px;overflow:auto;\">\n",
        "<table border=\"1\" class=\"dataframe\">\n",
        "  <thead>\n",
        "    <tr>\n",
        "      <th></th>\n",
        "      <th colspan=\"8\" halign=\"left\">Age</th>\n",
        "    </tr>\n",
        "    <tr>\n",
        "      <th></th>\n",
        "      <th>count</th>\n",
        "      <th>mean</th>\n",
        "      <th>std</th>\n",
        "      <th>min</th>\n",
        "      <th>25%</th>\n",
        "      <th>50%</th>\n",
        "      <th>75%</th>\n",
        "      <th>max</th>\n",
        "    </tr>\n",
        "    <tr>\n",
        "      <th>Gender</th>\n",
        "      <th></th>\n",
        "      <th></th>\n",
        "      <th></th>\n",
        "      <th></th>\n",
        "      <th></th>\n",
        "      <th></th>\n",
        "      <th></th>\n",
        "      <th></th>\n",
        "    </tr>\n",
        "  </thead>\n",
        "  <tbody>\n",
        "    <tr>\n",
        "      <th>Female</th>\n",
        "      <td> 251</td>\n",
        "      <td> 28.697211</td>\n",
        "      <td> 19.153380</td>\n",
        "      <td> 0</td>\n",
        "      <td> 12</td>\n",
        "      <td> 27</td>\n",
        "      <td> 43.5</td>\n",
        "      <td> 76</td>\n",
        "    </tr>\n",
        "    <tr>\n",
        "      <th>Male</th>\n",
        "      <td> 253</td>\n",
        "      <td> 29.430830</td>\n",
        "      <td> 19.391747</td>\n",
        "      <td> 0</td>\n",
        "      <td> 14</td>\n",
        "      <td> 28</td>\n",
        "      <td> 43.0</td>\n",
        "      <td> 95</td>\n",
        "    </tr>\n",
        "  </tbody>\n",
        "</table>\n",
        "</div>"
       ],
       "metadata": {},
       "output_type": "pyout",
       "prompt_number": 52,
       "text": [
        "          Age                                                \n",
        "        count       mean        std  min  25%  50%   75%  max\n",
        "Gender                                                       \n",
        "Female    251  28.697211  19.153380    0   12   27  43.5   76\n",
        "Male      253  29.430830  19.391747    0   14   28  43.0   95"
       ]
      }
     ],
     "prompt_number": 52
    },
    {
     "cell_type": "code",
     "collapsed": false,
     "input": [
      "gender = data_clean[['Gender', 'Age']]\n",
      "gender.boxplot(by='Gender')\n",
      "xlabel('Gender')\n",
      "ylabel('Age')\n",
      "title('Comparison of age between male and female')\n",
      "ylim(-5,80)\n",
      "show()"
     ],
     "language": "python",
     "metadata": {},
     "outputs": [
      {
       "metadata": {},
       "output_type": "display_data",
       "png": "[encoded data removed]",
       "text": [
        "<matplotlib.figure.Figure at 0xc033c18>"
       ]
      }
     ],
     "prompt_number": 32
    },
    {
     "cell_type": "heading",
     "level": 4,
     "metadata": {},
     "source": [
      "Comparison of age between genders by country"
     ]
    },
    {
     "cell_type": "code",
     "collapsed": false,
     "input": [
      "#data_clean.pivot_table(values='Age', rows = 'country', cols = 'Gender', aggfunc =np.median)\n",
      "data_clean.groupby(['country','Gender']).describe().unstack(1)"
     ],
     "language": "python",
     "metadata": {},
     "outputs": [
      {
       "html": [
        "<div style=\"max-height:1000px;max-width:1500px;overflow:auto;\">\n",
        "<table border=\"1\" class=\"dataframe\">\n",
        "  <thead>\n",
        "    <tr>\n",
        "      <th></th>\n",
        "      <th></th>\n",
        "      <th colspan=\"2\" halign=\"left\">Age</th>\n",
        "    </tr>\n",
        "    <tr>\n",
        "      <th></th>\n",
        "      <th>Gender</th>\n",
        "      <th>Female</th>\n",
        "      <th>Male</th>\n",
        "    </tr>\n",
        "    <tr>\n",
        "      <th>country</th>\n",
        "      <th></th>\n",
        "      <th></th>\n",
        "      <th></th>\n",
        "    </tr>\n",
        "  </thead>\n",
        "  <tbody>\n",
        "    <tr>\n",
        "      <th rowspan=\"8\" valign=\"top\">Guinea</th>\n",
        "      <th>count</th>\n",
        "      <td> 102.000000</td>\n",
        "      <td> 103.000000</td>\n",
        "    </tr>\n",
        "    <tr>\n",
        "      <th>mean</th>\n",
        "      <td>  28.274510</td>\n",
        "      <td>  28.368932</td>\n",
        "    </tr>\n",
        "    <tr>\n",
        "      <th>std</th>\n",
        "      <td>  19.276599</td>\n",
        "      <td>  19.322338</td>\n",
        "    </tr>\n",
        "    <tr>\n",
        "      <th>min</th>\n",
        "      <td>   1.000000</td>\n",
        "      <td>   0.000000</td>\n",
        "    </tr>\n",
        "    <tr>\n",
        "      <th>25%</th>\n",
        "      <td>  11.000000</td>\n",
        "      <td>  11.000000</td>\n",
        "    </tr>\n",
        "    <tr>\n",
        "      <th>50%</th>\n",
        "      <td>  26.500000</td>\n",
        "      <td>  28.000000</td>\n",
        "    </tr>\n",
        "    <tr>\n",
        "      <th>75%</th>\n",
        "      <td>  44.750000</td>\n",
        "      <td>  41.500000</td>\n",
        "    </tr>\n",
        "    <tr>\n",
        "      <th>max</th>\n",
        "      <td>  75.000000</td>\n",
        "      <td>  75.000000</td>\n",
        "    </tr>\n",
        "    <tr>\n",
        "      <th rowspan=\"8\" valign=\"top\">Liberia</th>\n",
        "      <th>count</th>\n",
        "      <td>  30.000000</td>\n",
        "      <td>  24.000000</td>\n",
        "    </tr>\n",
        "    <tr>\n",
        "      <th>mean</th>\n",
        "      <td>  34.200000</td>\n",
        "      <td>  30.625000</td>\n",
        "    </tr>\n",
        "    <tr>\n",
        "      <th>std</th>\n",
        "      <td>  18.579559</td>\n",
        "      <td>  16.644133</td>\n",
        "    </tr>\n",
        "    <tr>\n",
        "      <th>min</th>\n",
        "      <td>   0.000000</td>\n",
        "      <td>   0.000000</td>\n",
        "    </tr>\n",
        "    <tr>\n",
        "      <th>25%</th>\n",
        "      <td>  27.250000</td>\n",
        "      <td>  22.000000</td>\n",
        "    </tr>\n",
        "    <tr>\n",
        "      <th>50%</th>\n",
        "      <td>  36.500000</td>\n",
        "      <td>  36.000000</td>\n",
        "    </tr>\n",
        "    <tr>\n",
        "      <th>75%</th>\n",
        "      <td>  44.500000</td>\n",
        "      <td>  44.250000</td>\n",
        "    </tr>\n",
        "    <tr>\n",
        "      <th>max</th>\n",
        "      <td>  70.000000</td>\n",
        "      <td>  52.000000</td>\n",
        "    </tr>\n",
        "    <tr>\n",
        "      <th rowspan=\"8\" valign=\"top\">Sierra Leone</th>\n",
        "      <th>count</th>\n",
        "      <td> 119.000000</td>\n",
        "      <td> 126.000000</td>\n",
        "    </tr>\n",
        "    <tr>\n",
        "      <th>mean</th>\n",
        "      <td>  27.672269</td>\n",
        "      <td>  30.071429</td>\n",
        "    </tr>\n",
        "    <tr>\n",
        "      <th>std</th>\n",
        "      <td>  19.116108</td>\n",
        "      <td>  20.021260</td>\n",
        "    </tr>\n",
        "    <tr>\n",
        "      <th>min</th>\n",
        "      <td>   0.000000</td>\n",
        "      <td>   0.000000</td>\n",
        "    </tr>\n",
        "    <tr>\n",
        "      <th>25%</th>\n",
        "      <td>  11.500000</td>\n",
        "      <td>  14.250000</td>\n",
        "    </tr>\n",
        "    <tr>\n",
        "      <th>50%</th>\n",
        "      <td>  25.000000</td>\n",
        "      <td>  27.000000</td>\n",
        "    </tr>\n",
        "    <tr>\n",
        "      <th>75%</th>\n",
        "      <td>  42.000000</td>\n",
        "      <td>  43.750000</td>\n",
        "    </tr>\n",
        "    <tr>\n",
        "      <th>max</th>\n",
        "      <td>  76.000000</td>\n",
        "      <td>  95.000000</td>\n",
        "    </tr>\n",
        "  </tbody>\n",
        "</table>\n",
        "</div>"
       ],
       "metadata": {},
       "output_type": "pyout",
       "prompt_number": 56,
       "text": [
        "                           Age            \n",
        "Gender                  Female        Male\n",
        "country                                   \n",
        "Guinea       count  102.000000  103.000000\n",
        "             mean    28.274510   28.368932\n",
        "             std     19.276599   19.322338\n",
        "             min      1.000000    0.000000\n",
        "             25%     11.000000   11.000000\n",
        "             50%     26.500000   28.000000\n",
        "             75%     44.750000   41.500000\n",
        "             max     75.000000   75.000000\n",
        "Liberia      count   30.000000   24.000000\n",
        "             mean    34.200000   30.625000\n",
        "             std     18.579559   16.644133\n",
        "             min      0.000000    0.000000\n",
        "             25%     27.250000   22.000000\n",
        "             50%     36.500000   36.000000\n",
        "             75%     44.500000   44.250000\n",
        "             max     70.000000   52.000000\n",
        "Sierra Leone count  119.000000  126.000000\n",
        "             mean    27.672269   30.071429\n",
        "             std     19.116108   20.021260\n",
        "             min      0.000000    0.000000\n",
        "             25%     11.500000   14.250000\n",
        "             50%     25.000000   27.000000\n",
        "             75%     42.000000   43.750000\n",
        "             max     76.000000   95.000000"
       ]
      }
     ],
     "prompt_number": 56
    },
    {
     "cell_type": "code",
     "collapsed": false,
     "input": [
      "data_clean.boxplot(by=['country','Gender'])\n",
      "ylim(-5,80)\n",
      "xticks(rotation = 45)\n",
      "title('Age by country and gender')\n",
      "show()"
     ],
     "language": "python",
     "metadata": {},
     "outputs": [
      {
       "metadata": {},
       "output_type": "display_data",
       "png": "[encoded data removed]",
       "text": [
        "<matplotlib.figure.Figure at 0x13c199b0>"
       ]
      }
     ],
     "prompt_number": 31
    },
    {
     "cell_type": "heading",
     "level": 4,
     "metadata": {},
     "source": [
      "Comparison of gender in subgroup of age"
     ]
    },
    {
     "cell_type": "markdown",
     "metadata": {},
     "source": [
      "Cut 'Age' into different sub-category"
     ]
    },
    {
     "cell_type": "code",
     "collapsed": false,
     "input": [
      "bins = np.array([0, 10, 20, 30, 40, 50, 60, 70])"
     ],
     "language": "python",
     "metadata": {},
     "outputs": [],
     "prompt_number": 39
    },
    {
     "cell_type": "code",
     "collapsed": false,
     "input": [
      "age_cat = pd.cut(data_clean.Age, bins)"
     ],
     "language": "python",
     "metadata": {},
     "outputs": [],
     "prompt_number": 40
    },
    {
     "cell_type": "code",
     "collapsed": false,
     "input": [
      "data_clean.groupby([age_cat, 'Gender']).describe().unstack()"
     ],
     "language": "python",
     "metadata": {},
     "outputs": [
      {
       "html": [
        "<div style=\"max-height:1000px;max-width:1500px;overflow:auto;\">\n",
        "<table border=\"1\" class=\"dataframe\">\n",
        "  <thead>\n",
        "    <tr>\n",
        "      <th></th>\n",
        "      <th></th>\n",
        "      <th colspan=\"4\" halign=\"left\">country</th>\n",
        "    </tr>\n",
        "    <tr>\n",
        "      <th></th>\n",
        "      <th></th>\n",
        "      <th>count</th>\n",
        "      <th>unique</th>\n",
        "      <th>top</th>\n",
        "      <th>freq</th>\n",
        "    </tr>\n",
        "    <tr>\n",
        "      <th>Age</th>\n",
        "      <th>Gender</th>\n",
        "      <th></th>\n",
        "      <th></th>\n",
        "      <th></th>\n",
        "      <th></th>\n",
        "    </tr>\n",
        "  </thead>\n",
        "  <tbody>\n",
        "    <tr>\n",
        "      <th rowspan=\"2\" valign=\"top\">(0, 10]</th>\n",
        "      <th>Female</th>\n",
        "      <td> 53</td>\n",
        "      <td> 3</td>\n",
        "      <td> Sierra Leone</td>\n",
        "      <td> 26</td>\n",
        "    </tr>\n",
        "    <tr>\n",
        "      <th>Male</th>\n",
        "      <td> 46</td>\n",
        "      <td> 3</td>\n",
        "      <td>       Guinea</td>\n",
        "      <td> 25</td>\n",
        "    </tr>\n",
        "    <tr>\n",
        "      <th rowspan=\"2\" valign=\"top\">(10, 20]</th>\n",
        "      <th>Female</th>\n",
        "      <td> 36</td>\n",
        "      <td> 2</td>\n",
        "      <td> Sierra Leone</td>\n",
        "      <td> 20</td>\n",
        "    </tr>\n",
        "    <tr>\n",
        "      <th>Male</th>\n",
        "      <td> 36</td>\n",
        "      <td> 3</td>\n",
        "      <td> Sierra Leone</td>\n",
        "      <td> 26</td>\n",
        "    </tr>\n",
        "    <tr>\n",
        "      <th rowspan=\"2\" valign=\"top\">(20, 30]</th>\n",
        "      <th>Female</th>\n",
        "      <td> 44</td>\n",
        "      <td> 3</td>\n",
        "      <td> Sierra Leone</td>\n",
        "      <td> 23</td>\n",
        "    </tr>\n",
        "    <tr>\n",
        "      <th>Male</th>\n",
        "      <td> 54</td>\n",
        "      <td> 3</td>\n",
        "      <td>       Guinea</td>\n",
        "      <td> 25</td>\n",
        "    </tr>\n",
        "    <tr>\n",
        "      <th rowspan=\"2\" valign=\"top\">(30, 40]</th>\n",
        "      <th>Female</th>\n",
        "      <td> 39</td>\n",
        "      <td> 3</td>\n",
        "      <td> Sierra Leone</td>\n",
        "      <td> 16</td>\n",
        "    </tr>\n",
        "    <tr>\n",
        "      <th>Male</th>\n",
        "      <td> 39</td>\n",
        "      <td> 3</td>\n",
        "      <td> Sierra Leone</td>\n",
        "      <td> 19</td>\n",
        "    </tr>\n",
        "    <tr>\n",
        "      <th rowspan=\"2\" valign=\"top\">(40, 50]</th>\n",
        "      <th>Female</th>\n",
        "      <td> 37</td>\n",
        "      <td> 3</td>\n",
        "      <td>       Guinea</td>\n",
        "      <td> 16</td>\n",
        "    </tr>\n",
        "    <tr>\n",
        "      <th>Male</th>\n",
        "      <td> 34</td>\n",
        "      <td> 3</td>\n",
        "      <td> Sierra Leone</td>\n",
        "      <td> 15</td>\n",
        "    </tr>\n",
        "    <tr>\n",
        "      <th rowspan=\"2\" valign=\"top\">(50, 60]</th>\n",
        "      <th>Female</th>\n",
        "      <td> 24</td>\n",
        "      <td> 3</td>\n",
        "      <td>       Guinea</td>\n",
        "      <td> 10</td>\n",
        "    </tr>\n",
        "    <tr>\n",
        "      <th>Male</th>\n",
        "      <td> 21</td>\n",
        "      <td> 3</td>\n",
        "      <td> Sierra Leone</td>\n",
        "      <td> 12</td>\n",
        "    </tr>\n",
        "    <tr>\n",
        "      <th rowspan=\"2\" valign=\"top\">(60, 70]</th>\n",
        "      <th>Female</th>\n",
        "      <td> 10</td>\n",
        "      <td> 3</td>\n",
        "      <td> Sierra Leone</td>\n",
        "      <td>  5</td>\n",
        "    </tr>\n",
        "    <tr>\n",
        "      <th>Male</th>\n",
        "      <td> 12</td>\n",
        "      <td> 2</td>\n",
        "      <td>       Guinea</td>\n",
        "      <td>  6</td>\n",
        "    </tr>\n",
        "  </tbody>\n",
        "</table>\n",
        "</div>"
       ],
       "metadata": {},
       "output_type": "pyout",
       "prompt_number": 50,
       "text": [
        "                country                          \n",
        "                  count unique           top freq\n",
        "Age      Gender                                  \n",
        "(0, 10]  Female      53      3  Sierra Leone   26\n",
        "         Male        46      3        Guinea   25\n",
        "(10, 20] Female      36      2  Sierra Leone   20\n",
        "         Male        36      3  Sierra Leone   26\n",
        "(20, 30] Female      44      3  Sierra Leone   23\n",
        "         Male        54      3        Guinea   25\n",
        "(30, 40] Female      39      3  Sierra Leone   16\n",
        "         Male        39      3  Sierra Leone   19\n",
        "(40, 50] Female      37      3        Guinea   16\n",
        "         Male        34      3  Sierra Leone   15\n",
        "(50, 60] Female      24      3        Guinea   10\n",
        "         Male        21      3  Sierra Leone   12\n",
        "(60, 70] Female      10      3  Sierra Leone    5\n",
        "         Male        12      2        Guinea    6"
       ]
      }
     ],
     "prompt_number": 50
    },
    {
     "cell_type": "code",
     "collapsed": false,
     "input": [
      "grouped = data_clean.groupby(['Gender', age_cat]).size().unstack(0)\n",
      "grouped.plot(kind='bar')\n",
      "xticks(rotation=0)\n",
      "ylabel('count')\n",
      "show()"
     ],
     "language": "python",
     "metadata": {},
     "outputs": [
      {
       "metadata": {},
       "output_type": "display_data",
       "png": "[encoded data removed]",
       "text": [
        "<matplotlib.figure.Figure at 0x13532c50>"
       ]
      }
     ],
     "prompt_number": 46
    },
    {
     "cell_type": "code",
     "collapsed": false,
     "input": [
      "data_clean.groupby(['country', age_cat]).describe().unstack(2)"
     ],
     "language": "python",
     "metadata": {},
     "outputs": [
      {
       "html": [
        "<div style=\"max-height:1000px;max-width:1500px;overflow:auto;\">\n",
        "<table border=\"1\" class=\"dataframe\">\n",
        "  <thead>\n",
        "    <tr>\n",
        "      <th></th>\n",
        "      <th></th>\n",
        "      <th colspan=\"4\" halign=\"left\">Gender</th>\n",
        "    </tr>\n",
        "    <tr>\n",
        "      <th></th>\n",
        "      <th></th>\n",
        "      <th>count</th>\n",
        "      <th>unique</th>\n",
        "      <th>top</th>\n",
        "      <th>freq</th>\n",
        "    </tr>\n",
        "    <tr>\n",
        "      <th>country</th>\n",
        "      <th>Age</th>\n",
        "      <th></th>\n",
        "      <th></th>\n",
        "      <th></th>\n",
        "      <th></th>\n",
        "    </tr>\n",
        "  </thead>\n",
        "  <tbody>\n",
        "    <tr>\n",
        "      <th rowspan=\"7\" valign=\"top\">Guinea</th>\n",
        "      <th>(0, 10]</th>\n",
        "      <td> 50</td>\n",
        "      <td> 2</td>\n",
        "      <td> Female</td>\n",
        "      <td> 25</td>\n",
        "    </tr>\n",
        "    <tr>\n",
        "      <th>(10, 20]</th>\n",
        "      <td> 25</td>\n",
        "      <td> 2</td>\n",
        "      <td> Female</td>\n",
        "      <td> 16</td>\n",
        "    </tr>\n",
        "    <tr>\n",
        "      <th>(20, 30]</th>\n",
        "      <td> 40</td>\n",
        "      <td> 2</td>\n",
        "      <td>   Male</td>\n",
        "      <td> 25</td>\n",
        "    </tr>\n",
        "    <tr>\n",
        "      <th>(30, 40]</th>\n",
        "      <td> 31</td>\n",
        "      <td> 2</td>\n",
        "      <td>   Male</td>\n",
        "      <td> 16</td>\n",
        "    </tr>\n",
        "    <tr>\n",
        "      <th>(40, 50]</th>\n",
        "      <td> 27</td>\n",
        "      <td> 2</td>\n",
        "      <td> Female</td>\n",
        "      <td> 16</td>\n",
        "    </tr>\n",
        "    <tr>\n",
        "      <th>(50, 60]</th>\n",
        "      <td> 18</td>\n",
        "      <td> 2</td>\n",
        "      <td> Female</td>\n",
        "      <td> 10</td>\n",
        "    </tr>\n",
        "    <tr>\n",
        "      <th>(60, 70]</th>\n",
        "      <td> 10</td>\n",
        "      <td> 2</td>\n",
        "      <td>   Male</td>\n",
        "      <td>  6</td>\n",
        "    </tr>\n",
        "    <tr>\n",
        "      <th rowspan=\"7\" valign=\"top\">Liberia</th>\n",
        "      <th>(0, 10]</th>\n",
        "      <td>  5</td>\n",
        "      <td> 2</td>\n",
        "      <td>   Male</td>\n",
        "      <td>  3</td>\n",
        "    </tr>\n",
        "    <tr>\n",
        "      <th>(10, 20]</th>\n",
        "      <td>  1</td>\n",
        "      <td> 1</td>\n",
        "      <td>   Male</td>\n",
        "      <td>  1</td>\n",
        "    </tr>\n",
        "    <tr>\n",
        "      <th>(20, 30]</th>\n",
        "      <td> 11</td>\n",
        "      <td> 2</td>\n",
        "      <td> Female</td>\n",
        "      <td>  6</td>\n",
        "    </tr>\n",
        "    <tr>\n",
        "      <th>(30, 40]</th>\n",
        "      <td> 12</td>\n",
        "      <td> 2</td>\n",
        "      <td> Female</td>\n",
        "      <td>  8</td>\n",
        "    </tr>\n",
        "    <tr>\n",
        "      <th>(40, 50]</th>\n",
        "      <td> 14</td>\n",
        "      <td> 2</td>\n",
        "      <td>   Male</td>\n",
        "      <td>  8</td>\n",
        "    </tr>\n",
        "    <tr>\n",
        "      <th>(50, 60]</th>\n",
        "      <td>  5</td>\n",
        "      <td> 2</td>\n",
        "      <td> Female</td>\n",
        "      <td>  4</td>\n",
        "    </tr>\n",
        "    <tr>\n",
        "      <th>(60, 70]</th>\n",
        "      <td>  1</td>\n",
        "      <td> 1</td>\n",
        "      <td> Female</td>\n",
        "      <td>  1</td>\n",
        "    </tr>\n",
        "    <tr>\n",
        "      <th rowspan=\"7\" valign=\"top\">Sierra Leone</th>\n",
        "      <th>(0, 10]</th>\n",
        "      <td> 44</td>\n",
        "      <td> 2</td>\n",
        "      <td> Female</td>\n",
        "      <td> 26</td>\n",
        "    </tr>\n",
        "    <tr>\n",
        "      <th>(10, 20]</th>\n",
        "      <td> 46</td>\n",
        "      <td> 2</td>\n",
        "      <td>   Male</td>\n",
        "      <td> 26</td>\n",
        "    </tr>\n",
        "    <tr>\n",
        "      <th>(20, 30]</th>\n",
        "      <td> 47</td>\n",
        "      <td> 2</td>\n",
        "      <td>   Male</td>\n",
        "      <td> 24</td>\n",
        "    </tr>\n",
        "    <tr>\n",
        "      <th>(30, 40]</th>\n",
        "      <td> 35</td>\n",
        "      <td> 2</td>\n",
        "      <td>   Male</td>\n",
        "      <td> 19</td>\n",
        "    </tr>\n",
        "    <tr>\n",
        "      <th>(40, 50]</th>\n",
        "      <td> 30</td>\n",
        "      <td> 2</td>\n",
        "      <td>   Male</td>\n",
        "      <td> 15</td>\n",
        "    </tr>\n",
        "    <tr>\n",
        "      <th>(50, 60]</th>\n",
        "      <td> 22</td>\n",
        "      <td> 2</td>\n",
        "      <td>   Male</td>\n",
        "      <td> 12</td>\n",
        "    </tr>\n",
        "    <tr>\n",
        "      <th>(60, 70]</th>\n",
        "      <td> 11</td>\n",
        "      <td> 2</td>\n",
        "      <td>   Male</td>\n",
        "      <td>  6</td>\n",
        "    </tr>\n",
        "  </tbody>\n",
        "</table>\n",
        "</div>"
       ],
       "metadata": {},
       "output_type": "pyout",
       "prompt_number": 49,
       "text": [
        "                      Gender                    \n",
        "                       count unique     top freq\n",
        "country      Age                                \n",
        "Guinea       (0, 10]      50      2  Female   25\n",
        "             (10, 20]     25      2  Female   16\n",
        "             (20, 30]     40      2    Male   25\n",
        "             (30, 40]     31      2    Male   16\n",
        "             (40, 50]     27      2  Female   16\n",
        "             (50, 60]     18      2  Female   10\n",
        "             (60, 70]     10      2    Male    6\n",
        "Liberia      (0, 10]       5      2    Male    3\n",
        "             (10, 20]      1      1    Male    1\n",
        "             (20, 30]     11      2  Female    6\n",
        "             (30, 40]     12      2  Female    8\n",
        "             (40, 50]     14      2    Male    8\n",
        "             (50, 60]      5      2  Female    4\n",
        "             (60, 70]      1      1  Female    1\n",
        "Sierra Leone (0, 10]      44      2  Female   26\n",
        "             (10, 20]     46      2    Male   26\n",
        "             (20, 30]     47      2    Male   24\n",
        "             (30, 40]     35      2    Male   19\n",
        "             (40, 50]     30      2    Male   15\n",
        "             (50, 60]     22      2    Male   12\n",
        "             (60, 70]     11      2    Male    6"
       ]
      }
     ],
     "prompt_number": 49
    },
    {
     "cell_type": "code",
     "collapsed": false,
     "input": [
      "age_country = data_clean.groupby([age_cat, 'country']).size().unstack(0)\n",
      "age_country.plot(kind='bar')\n",
      "xticks(rotation=0)\n",
      "ylim(0, 55)\n",
      "show()"
     ],
     "language": "python",
     "metadata": {},
     "outputs": [
      {
       "metadata": {},
       "output_type": "display_data",
       "png": "[encoded data removed]",
       "text": [
        "<matplotlib.figure.Figure at 0xbfa90b8>"
       ]
      }
     ],
     "prompt_number": 47
    },
    {
     "cell_type": "heading",
     "level": 4,
     "metadata": {},
     "source": [
      "Comparison of gender difference in each subgroup of age by country"
     ]
    },
    {
     "cell_type": "code",
     "collapsed": false,
     "input": [
      "data_clean.groupby(['country', age_cat, 'Gender']).size().unstack(1)"
     ],
     "language": "python",
     "metadata": {},
     "outputs": [
      {
       "html": [
        "<div style=\"max-height:1000px;max-width:1500px;overflow:auto;\">\n",
        "<table border=\"1\" class=\"dataframe\">\n",
        "  <thead>\n",
        "    <tr style=\"text-align: right;\">\n",
        "      <th></th>\n",
        "      <th>Age</th>\n",
        "      <th>(0, 10]</th>\n",
        "      <th>(10, 20]</th>\n",
        "      <th>(20, 30]</th>\n",
        "      <th>(30, 40]</th>\n",
        "      <th>(40, 50]</th>\n",
        "      <th>(50, 60]</th>\n",
        "      <th>(60, 70]</th>\n",
        "    </tr>\n",
        "    <tr>\n",
        "      <th>country</th>\n",
        "      <th>Gender</th>\n",
        "      <th></th>\n",
        "      <th></th>\n",
        "      <th></th>\n",
        "      <th></th>\n",
        "      <th></th>\n",
        "      <th></th>\n",
        "      <th></th>\n",
        "    </tr>\n",
        "  </thead>\n",
        "  <tbody>\n",
        "    <tr>\n",
        "      <th rowspan=\"2\" valign=\"top\">Guinea</th>\n",
        "      <th>Female</th>\n",
        "      <td> 25</td>\n",
        "      <td> 16</td>\n",
        "      <td> 15</td>\n",
        "      <td> 15</td>\n",
        "      <td> 16</td>\n",
        "      <td> 10</td>\n",
        "      <td>  4</td>\n",
        "    </tr>\n",
        "    <tr>\n",
        "      <th>Male</th>\n",
        "      <td> 25</td>\n",
        "      <td>  9</td>\n",
        "      <td> 25</td>\n",
        "      <td> 16</td>\n",
        "      <td> 11</td>\n",
        "      <td>  8</td>\n",
        "      <td>  6</td>\n",
        "    </tr>\n",
        "    <tr>\n",
        "      <th rowspan=\"2\" valign=\"top\">Liberia</th>\n",
        "      <th>Female</th>\n",
        "      <td>  2</td>\n",
        "      <td>NaN</td>\n",
        "      <td>  6</td>\n",
        "      <td>  8</td>\n",
        "      <td>  6</td>\n",
        "      <td>  4</td>\n",
        "      <td>  1</td>\n",
        "    </tr>\n",
        "    <tr>\n",
        "      <th>Male</th>\n",
        "      <td>  3</td>\n",
        "      <td>  1</td>\n",
        "      <td>  5</td>\n",
        "      <td>  4</td>\n",
        "      <td>  8</td>\n",
        "      <td>  1</td>\n",
        "      <td>NaN</td>\n",
        "    </tr>\n",
        "    <tr>\n",
        "      <th rowspan=\"2\" valign=\"top\">Sierra Leone</th>\n",
        "      <th>Female</th>\n",
        "      <td> 26</td>\n",
        "      <td> 20</td>\n",
        "      <td> 23</td>\n",
        "      <td> 16</td>\n",
        "      <td> 15</td>\n",
        "      <td> 10</td>\n",
        "      <td>  5</td>\n",
        "    </tr>\n",
        "    <tr>\n",
        "      <th>Male</th>\n",
        "      <td> 18</td>\n",
        "      <td> 26</td>\n",
        "      <td> 24</td>\n",
        "      <td> 19</td>\n",
        "      <td> 15</td>\n",
        "      <td> 12</td>\n",
        "      <td>  6</td>\n",
        "    </tr>\n",
        "  </tbody>\n",
        "</table>\n",
        "</div>"
       ],
       "metadata": {},
       "output_type": "pyout",
       "prompt_number": 64,
       "text": [
        "Age                  (0, 10]  (10, 20]  (20, 30]  (30, 40]  (40, 50]  \\\n",
        "country      Gender                                                    \n",
        "Guinea       Female       25        16        15        15        16   \n",
        "             Male         25         9        25        16        11   \n",
        "Liberia      Female        2       NaN         6         8         6   \n",
        "             Male          3         1         5         4         8   \n",
        "Sierra Leone Female       26        20        23        16        15   \n",
        "             Male         18        26        24        19        15   \n",
        "\n",
        "Age                  (50, 60]  (60, 70]  \n",
        "country      Gender                      \n",
        "Guinea       Female        10         4  \n",
        "             Male           8         6  \n",
        "Liberia      Female         4         1  \n",
        "             Male           1       NaN  \n",
        "Sierra Leone Female        10         5  \n",
        "             Male          12         6  "
       ]
      }
     ],
     "prompt_number": 64
    },
    {
     "cell_type": "code",
     "collapsed": false,
     "input": [
      "# Guinea\n",
      "age_guinea = data_clean[data_clean['country'] == 'Guinea']\n",
      "guinea_cat = pd.cut(age_guinea.Age, bins)\n",
      "age_guinea_grouped = age_guinea.groupby(['Gender', guinea_cat]).size().unstack(0)\n",
      "age_guinea_grouped.plot(kind = 'bar')\n",
      "xticks(rotation=0)\n",
      "ylim(0,28)\n",
      "ylabel('count')\n",
      "title('Guinea')\n",
      "\n",
      "# Liberia\n",
      "age_liberia = data_clean[data_clean['country'] == 'Liberia']\n",
      "liberia_cat = pd.cut(age_liberia.Age, bins)\n",
      "age_liberia_grouped = age_liberia.groupby(['Gender', liberia_cat]).size().unstack(0)\n",
      "age_liberia_grouped.plot(kind = 'bar')\n",
      "xticks(rotation=0)\n",
      "ylim(0, 9)\n",
      "ylabel('count')\n",
      "title('Liberia')\n",
      "legend(loc=1)\n",
      "\n",
      "# Sierra Leone\n",
      "age_sl = data_clean[data_clean['country'] == 'Sierra Leone']\n",
      "sl_cat = pd.cut(age_sl.Age, bins)\n",
      "age_sl_grouped = age_sl.groupby(['Gender', sl_cat]).size().unstack(0)\n",
      "age_sl_grouped.plot(kind = 'bar')\n",
      "xticks(rotation=0)\n",
      "ylabel('count')\n",
      "title('Sierra Leone')\n",
      "\n",
      "show()"
     ],
     "language": "python",
     "metadata": {},
     "outputs": [
      {
       "metadata": {},
       "output_type": "display_data",
       "png": "[encoded data removed]",
       "text": [
        "<matplotlib.figure.Figure at 0xc483e48>"
       ]
      },
      {
       "metadata": {},
       "output_type": "display_data",
       "png": "[encoded data removed]",
       "text": [
        "<matplotlib.figure.Figure at 0x13570208>"
       ]
      },
      {
       "metadata": {},
       "output_type": "display_data",
       "png": "[encoded data removed]",
       "text": [
        "<matplotlib.figure.Figure at 0x13563ef0>"
       ]
      }
     ],
     "prompt_number": 67
    },
    {
     "cell_type": "heading",
     "level": 3,
     "metadata": {},
     "source": [
      "Conclusion"
     ]
    },
    {
     "cell_type": "markdown",
     "metadata": {},
     "source": [
      "- There was no age difference between male and female across the countries.\n",
      "\n",
      "- Liberia had higher median age than Guinea and Sierra Leone. \n",
      "\n",
      "- After age sub-grouped into 10 years interval, there were more cases in female than male in 0-10 year group. There were more cases in male than female In 20-30 year group.\n",
      "\n",
      "- Both Guinea and Sierra Leone tended to have more cases in younger age (0-30), while Liberia had more cases in age 20-50 range.\n",
      "\n",
      "- There were many more male cases in 10-20 year group of Sierra Leone than Guinea. There were more female cases in 20-30 year group than male in Guinea."
     ]
    },
    {
     "cell_type": "code",
     "collapsed": false,
     "input": [],
     "language": "python",
     "metadata": {},
     "outputs": []
    }
   ],
   "metadata": {}
  }
 ]
}