{
 "cells": [
  {
   "cell_type": "code",
   "execution_count": 191,
   "metadata": {
    "collapsed": false
   },
   "outputs": [],
   "source": [
    "import cv2\n",
    "import cv2\n",
    "import os"
   ]
  },
  {
   "cell_type": "code",
   "execution_count": 189,
   "metadata": {
    "collapsed": true
   },
   "outputs": [],
   "source": [
    "# Function to crop the face\n",
    "# Images were converted into gray if it's colorful\n",
    "def cropface(imagePath, cascPath):\n",
    "    faceCascade = cv2.CascadeClassifier(cascPath)\n",
    "    image = cv2.imread(imagePath)\n",
    "    try:\n",
    "        gray = cv2.cvtColor(image, cv2.COLOR_BGR2GRAY) # convert into gray\n",
    "    except:\n",
    "        gray = image\n",
    "    faces = faceCascade.detectMultiScale(gray, \n",
    "                                         scaleFactor=1.2, ## scaleFactor can be adjusted to detect face\n",
    "                                         minNeighbors=5)\n",
    "    if len(faces) == 0 or len(faces) == 2:\n",
    "        return gray\n",
    "    else:\n",
    "        for (x, y, w, h) in faces:\n",
    "            image_crop = gray[y:h+y, x:x+w]\n",
    "        return image_crop"
   ]
  },
  {
   "cell_type": "code",
   "execution_count": 177,
   "metadata": {
    "collapsed": true
   },
   "outputs": [],
   "source": [
    "indir = r'C:\\Users\\ddsmile\\Documents\\docker622\\test' # Directory for test images\n",
    "piclist = os.listdir(indir)"
   ]
  },
  {
   "cell_type": "code",
   "execution_count": 178,
   "metadata": {
    "collapsed": false
   },
   "outputs": [],
   "source": [
    "cascPath = \"C:/Users/ddsmile/Documents/CUNY_MSDA/622 Big data and machine learning/final/sample images/haarcascade_frontalface_default.xml\""
   ]
  },
  {
   "cell_type": "code",
   "execution_count": 179,
   "metadata": {
    "collapsed": true
   },
   "outputs": [],
   "source": [
    "# New folder to save process face images\n",
    "testFace = r'C:\\Users\\ddsmile\\Documents\\docker622\\testFace'\n",
    "if not os.path.exists(testFace):\n",
    "        os.makedirs(testFace)"
   ]
  },
  {
   "cell_type": "code",
   "execution_count": 190,
   "metadata": {
    "collapsed": false
   },
   "outputs": [],
   "source": [
    "for i in range(len(piclist)):\n",
    "    imagePath = os.path.join(indir, piclist[i])\n",
    "    image = cropface(imagePath, cascPath)\n",
    "    cv2.imwrite(os.path.join(testFace, piclist[i]), image)"
   ]
  }
 ],
 "metadata": {
  "anaconda-cloud": {},
  "kernelspec": {
   "display_name": "Python [Root]",
   "language": "python",
   "name": "Python [Root]"
  },
  "language_info": {
   "codemirror_mode": {
    "name": "ipython",
    "version": 2
   },
   "file_extension": ".py",
   "mimetype": "text/x-python",
   "name": "python",
   "nbconvert_exporter": "python",
   "pygments_lexer": "ipython2",
   "version": "2.7.12"
  }
 },
 "nbformat": 4,
 "nbformat_minor": 0
}
